{
 "cells": [
  {
   "cell_type": "markdown",
   "metadata": {},
   "source": [
    "<a id=\"Reducción de Dimensionalidad\"></a>\n",
    "# <u>Reducción de Dimensionalidad</u>\n",
    "\n",
    "La reducción de dimensionalidad es el proceso de reducir la dimensión del conjunto de características manteniendo su estructura y utilidad.\n",
    "\n",
    "## <u>Razones para la reducción de dimensionalidad</u>\n",
    "\n",
    "- La mayoría de los puntos en un hipercubo de alta dimensionalidad están muy cerca del borde y corren el riesgo de ser muy dispersos, lo que hace que las predicciones sean mucho menos confiables que en dimensiones más bajas.\n",
    "- Un número muy grande de características para cada instancia de entrenamiento puede hacer que el entrenamiento sea extremadamente lento.\n",
    "- Es difícil visualizar un conjunto de datos que contenga un gran número de características.\n",
    "\n",
    "## <u>Pros</u>\n",
    "\n",
    "- Menor tiempo en entrenar el conjunto de datos.\n",
    "- Visualización fácil del conjunto de datos que contiene 2 o 3 características principales.\n",
    "- Puede (o no) resultar en un mejor rendimiento.\n",
    "\n",
    "## <u>Contras</u>\n",
    "\n",
    "- Pérdida de información.\n",
    "\n",
    "La reducción de dimensionalidad se puede lograr de las siguientes maneras:\n",
    "\n",
    "- <b> Eliminación de Características </b>: Reducimos el espacio de características eliminando características. Sin embargo, esto tiene la desventaja de que no obtenemos información de las características que eliminamos.\n",
    "\n",
    "- <b> Selección de Características </b>: Aplicamos algunas pruebas estadísticas para clasificarlas según su importancia y luego seleccionamos un subconjunto de características para nuestro trabajo. Esto también sufre de pérdida de información y es menos estable, ya que diferentes pruebas otorgan diferentes puntuaciones de importancia a las características.\n",
    "\n",
    "- <b> Extracción de Características </b>: Creamos nuevas características independientes, donde cada nueva característica independiente es una combinación de las antiguas características independientes. Estas técnicas se pueden dividir en técnicas de reducción de dimensionalidad lineales (PCA, SVD) y no lineales (t-SNE).\n"
   ]
  },
  {
   "cell_type": "markdown",
   "metadata": {},
   "source": [
    "<a id=\"Enfoques Principales para la Reducción de Dimensionalidad\"></a>\n",
    "## <u>Enfoques Principales para la Reducción de Dimensionalidad</u>\n",
    "\n",
    "### <u>Proyección</u>\n",
    "\n",
    "Proyectar datos de alta dimensionalidad en un hiperplano de baja dimensionalidad, minimizando la varianza. (PCA)\n",
    "\n",
    "### <u>Aprendizaje de Variedades</u>\n",
    "\n",
    "En muchos casos donde el subespacio puede torcerse y girar (como en el Swiss roll), la proyección no es el mejor enfoque para la reducción de dimensionalidad. Las técnicas de Aprendizaje de Variedades miden cómo cada instancia de entrenamiento se relaciona linealmente con sus vecinos más cercanos, luego buscan una representación de baja dimensionalidad del conjunto de entrenamiento donde estas relaciones locales se preserven de la mejor manera posible.\n"
   ]
  },
  {
   "cell_type": "markdown",
   "metadata": {},
   "source": [
    "<a id=\"Proyección\"></a>\n",
    "## <u>Proyección</u>\n",
    "\n",
    "<a id=\"PCA - Análisis de Componentes Principales\"></a>\n",
    "### <u>PCA - Análisis de Componentes Principales (PCA Básico)</u>\n",
    "- El análisis de componentes principales es el principal método utilizado para la reducción de dimensionalidad lineal.\n",
    "- Realiza un mapeo lineal de los datos a un espacio de menor dimensionalidad de tal manera que la varianza de los datos en la representación de baja dimensionalidad se maximice. Con la máxima varianza, se preserva la mayor cantidad de información posible. En otras palabras, selecciona el/los hiperplano(s) que minimizan la distancia media cuadrática entre el conjunto de datos original y su proyección en dicho(s) hiperplano(s).\n",
    "- El primer componente principal explica la mayor varianza en los datos, y así sucesivamente...\n",
    "- Todos los componentes en el espacio de baja dimensionalidad están linealmente no correlacionados.\n",
    "- Cada una de las nuevas características o componentes creados después de aplicar PCA son independientes entre sí.\n"
   ]
  },
  {
   "cell_type": "code",
   "execution_count": 1,
   "metadata": {},
   "outputs": [],
   "source": [
    "from sklearn.datasets import load_iris\n",
    "import pandas as pd"
   ]
  },
  {
   "cell_type": "markdown",
   "metadata": {},
   "source": [
    "<a id=\"PCA para Visualización de Datos y Reducción de Dimensionalidad\"></a>\n",
    "### <u>Aplicación 1: PCA para Visualización de Datos y Reducción de Dimensionalidad</u>\n"
   ]
  },
  {
   "cell_type": "code",
   "execution_count": 2,
   "metadata": {
    "_cell_guid": "",
    "_uuid": ""
   },
   "outputs": [],
   "source": [
    "# Cargar el dataset de Iris desde sklearn\n",
    "iris = load_iris()\n",
    "\n",
    "# Convertir a DataFrame para que sea similar al formato que tenías\n",
    "Iris = pd.DataFrame(data=iris.data, columns=iris.feature_names)\n",
    "\n",
    "# Agregar la columna de la especie (y)\n",
    "Iris['Species'] = iris.target\n",
    "\n",
    "# Asignar X y y\n",
    "X = Iris[['sepal length (cm)', 'sepal width (cm)', 'petal length (cm)', 'petal width (cm)']]\n",
    "y = Iris['Species']\n"
   ]
  },
  {
   "cell_type": "markdown",
   "metadata": {},
   "source": [
    "<a id=\"Estandarización\"></a>\n",
    "### <u>Paso 1: Estandarización</u>\n",
    "\n",
    "Los datos no estandarizados son sensibles a las variaciones de las variables iniciales. Las variables con rangos mayores dominan sobre aquellas con rangos más pequeños (una variable que varía entre 0 y 100 dominará sobre una que varía entre 0 y 1), lo que conduce a resultados sesgados. Transformar los datos a escalas comparables evita este problema.\n",
    "\n",
    "Matemáticamente, esto se puede hacer restando la media (o la media empírica - la media muestral de cada columna desplazada a cero) y dividiendo por la desviación estándar para cada valor de cada variable.\n"
   ]
  },
  {
   "cell_type": "code",
   "execution_count": 2,
   "metadata": {},
   "outputs": [],
   "source": [
    "from sklearn.preprocessing import StandardScaler\n",
    "X = StandardScaler().fit_transform(X)"
   ]
  },
  {
   "cell_type": "markdown",
   "metadata": {},
   "source": [
    "<a id=\"Descomposición en Valores Propios\"></a>\n",
    "### <u>Paso 2: Descomposición en Valores Propios - Cálculo de Vectores y Valores Propios</u>\n",
    "\n",
    "Los vectores propios y los valores propios de una matriz de covarianza (o de correlación) representan el \"núcleo\" de un PCA: Los vectores propios (componentes principales) determinan las direcciones del nuevo espacio de características, y los valores propios determinan su magnitud. En otras palabras, los valores propios explican la varianza de los datos a lo largo de los nuevos ejes de características.\n",
    "\n",
    "#### <u>Matriz de Covarianza</u>\n",
    "\n",
    "El enfoque clásico del PCA es realizar la descomposición en valores propios sobre la matriz de covarianza, que es una matriz donde cada elemento representa la covarianza entre dos características. La covarianza entre dos características se calcula de la siguiente manera:\n",
    "\n",
    "\n",
    "$$Cov(𝑋, 𝑌 ) = \\frac{\\sum(x_i - \\bar{x}) (y_i - \\bar{y})}{N-1}$$"
   ]
  },
  {
   "cell_type": "code",
   "execution_count": 3,
   "metadata": {},
   "outputs": [
    {
     "name": "stdout",
     "output_type": "stream",
     "text": [
      "Covariance matrix \n",
      "[[ 1.00671141 -0.11010327  0.87760486  0.82344326]\n",
      " [-0.11010327  1.00671141 -0.42333835 -0.358937  ]\n",
      " [ 0.87760486 -0.42333835  1.00671141  0.96921855]\n",
      " [ 0.82344326 -0.358937    0.96921855  1.00671141]]\n"
     ]
    }
   ],
   "source": [
    "import numpy as np\n",
    "\n",
    "X_mean = np.mean(X, axis=0)\n",
    "# cov_mat = np.cov(X)\n",
    "cov_mat = (X - X_mean).T.dot((X - X_mean)) / (X.shape[0]-1)\n",
    "print('Covariance matrix \\n%s' %cov_mat)"
   ]
  },
  {
   "cell_type": "markdown",
   "metadata": {},
   "source": [
    "A continuación, realizamos una descomposición en valores propios sobre la matriz de covarianza:\n",
    "\n",
    "Los tres enfoques producen los mismos pares de vectores propios y valores propios:\n",
    "\n",
    "- Descomposición en valores propios de la matriz de covarianza después de estandarizar los datos.\n",
    "- Descomposición en valores propios de la matriz de correlación.\n",
    "- Descomposición en valores propios de la matriz de correlación después de estandarizar los datos.\n"
   ]
  },
  {
   "cell_type": "code",
   "execution_count": 4,
   "metadata": {},
   "outputs": [
    {
     "name": "stdout",
     "output_type": "stream",
     "text": [
      "Eigenvectors \n",
      "[[ 0.52237162 -0.37231836 -0.72101681  0.26199559]\n",
      " [-0.26335492 -0.92555649  0.24203288 -0.12413481]\n",
      " [ 0.58125401 -0.02109478  0.14089226 -0.80115427]\n",
      " [ 0.56561105 -0.06541577  0.6338014   0.52354627]]\n",
      "\n",
      "Eigenvalues \n",
      "[2.93035378 0.92740362 0.14834223 0.02074601]\n"
     ]
    }
   ],
   "source": [
    "eig_vals, eig_vecs = np.linalg.eig(cov_mat)\n",
    "\n",
    "print('Eigenvectors \\n%s' %eig_vecs)\n",
    "print('\\nEigenvalues \\n%s' %eig_vals)"
   ]
  },
  {
   "cell_type": "markdown",
   "metadata": {},
   "source": [
    "#### <u>Descomposición en Valores Singulares</u>\n",
    "\n",
    "Aunque la descomposición en valores propios de la matriz de covarianza o correlación puede ser más intuitiva, la mayoría de las implementaciones de PCA utilizan una Descomposición en Valores Singulares (SVD) para mejorar la eficiencia computacional. Por lo tanto, realicemos una SVD para confirmar que los resultados son, de hecho, los mismos:\n"
   ]
  },
  {
   "cell_type": "code",
   "execution_count": 5,
   "metadata": {},
   "outputs": [
    {
     "data": {
      "text/plain": [
       "array([[-0.52237162, -0.37231836,  0.72101681,  0.26199559],\n",
       "       [ 0.26335492, -0.92555649, -0.24203288, -0.12413481],\n",
       "       [-0.58125401, -0.02109478, -0.14089226, -0.80115427],\n",
       "       [-0.56561105, -0.06541577, -0.6338014 ,  0.52354627]])"
      ]
     },
     "execution_count": 5,
     "metadata": {},
     "output_type": "execute_result"
    }
   ],
   "source": [
    "u,s,v = np.linalg.svd(X.T)\n",
    "u"
   ]
  },
  {
   "cell_type": "markdown",
   "metadata": {},
   "source": [
    "<a id=\"Seleccionando Componentes Principales\"></a>\n",
    "### <u>Paso 3: Seleccionar Componentes Principales</u>\n",
    "\n",
    "#### <u>Ordenando los Pares de Valores Propios</u>\n",
    "El objetivo del PCA es reducir la dimensionalidad del espacio de características original proyectándolo en un subespacio más pequeño, donde los vectores propios formarán los ejes. Sin embargo, los vectores propios solo definen las direcciones de los nuevos ejes, ya que todos tienen la misma longitud unitaria 1.\n",
    "\n",
    "Para decidir qué vector(es) propio(s) se pueden eliminar sin perder demasiada información, necesitamos inspeccionar los valores propios correspondientes: Los vectores propios con los valores propios más bajos contienen la menor información sobre la distribución de los datos; estos son los que se pueden eliminar.\n",
    "\n",
    "El enfoque común es ordenar los valores propios de mayor a menor.\n"
   ]
  },
  {
   "cell_type": "code",
   "execution_count": 6,
   "metadata": {},
   "outputs": [
    {
     "name": "stdout",
     "output_type": "stream",
     "text": [
      "Eigenvalues in descending order:\n",
      "2.930353775589317\n",
      "0.9274036215173419\n",
      "0.14834222648163944\n",
      "0.02074601399559593\n"
     ]
    }
   ],
   "source": [
    "# Make a list of (eigenvalue, eigenvector) tuples\n",
    "eig_pairs = [(np.abs(eig_vals[i]), eig_vecs[:,i]) for i in range(len(eig_vals))]\n",
    "\n",
    "# Sort the (eigenvalue, eigenvector) tuples from high to low\n",
    "eig_pairs.sort(key=lambda x: x[0], reverse=True)\n",
    "\n",
    "# Visually confirm that the list is correctly sorted by decreasing eigenvalues\n",
    "print('Eigenvalues in descending order:')\n",
    "for i in eig_pairs:\n",
    "    print(i[0])"
   ]
  },
  {
   "cell_type": "markdown",
   "metadata": {},
   "source": [
    "#### <u>Varianza Explicada</u>\n",
    "Después de ordenar los pares de valores propios, la siguiente pregunta es: \"¿Cuántos componentes principales vamos a elegir para nuestro nuevo subespacio de características?\" Una medida útil es la llamada \"varianza explicada\", que se puede calcular a partir de los valores propios. La varianza explicada nos indica cuánta información (varianza) se puede atribuir a cada uno de los componentes principales.\n"
   ]
  },
  {
   "cell_type": "code",
   "execution_count": 7,
   "metadata": {},
   "outputs": [
    {
     "data": {
      "text/plain": [
       "array([ 72.77045209,  95.80097536,  99.48480732, 100.        ])"
      ]
     },
     "execution_count": 7,
     "metadata": {},
     "output_type": "execute_result"
    }
   ],
   "source": [
    "tot = sum(eig_vals)\n",
    "var_exp = [(i / tot)*100 for i in sorted(eig_vals, reverse=True)]\n",
    "cum_var_exp = np.cumsum(var_exp)\n",
    "cum_var_exp"
   ]
  },
  {
   "cell_type": "markdown",
   "metadata": {},
   "source": [
    "En el arreglo anterior vemos que la primera característica explica aproximadamente el 72.77% de la varianza en nuestro conjunto de datos, mientras que las dos primeras explican el 95.8%, y así sucesivamente.\n"
   ]
  },
  {
   "cell_type": "markdown",
   "metadata": {},
   "source": [
    "#### <u>Matriz de Proyección</u>\n",
    "La matriz de proyección se utiliza para transformar los datos de entrada (X) en el nuevo subespacio de características. La matriz de proyección es una matriz que contiene los k vectores propios más importantes concatenados.\n",
    "\n",
    "En este caso, estamos reduciendo el espacio de características de 4 dimensiones a un subespacio de 2 dimensiones, eligiendo los \"2 principales\" vectores propios con los valores propios más altos para construir nuestra matriz de vectores propios de 2 dimensiones.\n"
   ]
  },
  {
   "cell_type": "code",
   "execution_count": 8,
   "metadata": {},
   "outputs": [
    {
     "name": "stdout",
     "output_type": "stream",
     "text": [
      "Matrix W:\n",
      " [[ 0.52237162 -0.37231836]\n",
      " [-0.26335492 -0.92555649]\n",
      " [ 0.58125401 -0.02109478]\n",
      " [ 0.56561105 -0.06541577]]\n"
     ]
    }
   ],
   "source": [
    "matrix_w = np.hstack((eig_pairs[0][1].reshape(4,1),\n",
    "                      eig_pairs[1][1].reshape(4,1)))\n",
    "\n",
    "print('Matrix W:\\n', matrix_w)"
   ]
  },
  {
   "cell_type": "markdown",
   "metadata": {},
   "source": [
    "<a id=\"Projection Onto the New Feature Space\"></a>\n",
    "### <u>Step 4:  Proyectando al nuevo espacio de caracteristicas"
   ]
  },
  {
   "cell_type": "code",
   "execution_count": 9,
   "metadata": {},
   "outputs": [],
   "source": [
    "Y = X.dot(matrix_w)"
   ]
  },
  {
   "cell_type": "code",
   "execution_count": 10,
   "metadata": {},
   "outputs": [
    {
     "data": {
      "image/png": "[encoded data removed]",
      "text/plain": [
       "<Figure size 432x288 with 1 Axes>"
      ]
     },
     "metadata": {},
     "output_type": "display_data"
    }
   ],
   "source": [
    "import matplotlib.pyplot as plt\n",
    "\n",
    "with plt.style.context('seaborn-whitegrid'):\n",
    "    plt.figure(figsize=(6, 4))\n",
    "    for lab, col in zip(('Iris-setosa', 'Iris-versicolor', 'Iris-virginica'), ('blue', 'red', 'green')):\n",
    "        plt.scatter(Y[y==lab, 0], Y[y==lab, 1], label=lab, c=col)\n",
    "    plt.xlabel('Principal Component 1')\n",
    "    plt.ylabel('Principal Component 2')\n",
    "    plt.legend(loc='lower center')\n",
    "    plt.tight_layout()\n",
    "    plt.show()"
   ]
  },
  {
   "cell_type": "markdown",
   "metadata": {},
   "source": [
    "### <u>Shortcut - PCA in scikit-learn</u>\n"
   ]
  },
  {
   "cell_type": "code",
   "execution_count": 11,
   "metadata": {},
   "outputs": [
    {
     "data": {
      "text/plain": [
       "array([0.72770452, 0.23030523])"
      ]
     },
     "execution_count": 11,
     "metadata": {},
     "output_type": "execute_result"
    }
   ],
   "source": [
    "from sklearn.decomposition import PCA as sklearnPCA\n",
    "sklearn_pca = sklearnPCA(n_components=2)\n",
    "Y_sklearn = sklearn_pca.fit_transform(X)\n",
    "\n",
    "sklearn_pca.explained_variance_ratio_"
   ]
  },
  {
   "cell_type": "code",
   "execution_count": 12,
   "metadata": {},
   "outputs": [
    {
     "data": {
      "image/png": "[encoded data removed]",
      "text/plain": [
       "<Figure size 432x288 with 1 Axes>"
      ]
     },
     "metadata": {},
     "output_type": "display_data"
    }
   ],
   "source": [
    "with plt.style.context('seaborn-whitegrid'):\n",
    "    plt.figure(figsize=(6, 4))\n",
    "    for lab, col in zip(('Iris-setosa', 'Iris-versicolor', 'Iris-virginica'),\n",
    "                        ('blue', 'red', 'green')):\n",
    "        plt.scatter(Y_sklearn[y==lab, 0],\n",
    "                    Y_sklearn[y==lab, 1],\n",
    "                    label=lab,\n",
    "                    c=col)\n",
    "    plt.xlabel('Principal Component 1')\n",
    "    plt.ylabel('Principal Component 2')\n",
    "    plt.legend(loc='lower center')\n",
    "    plt.tight_layout()\n",
    "    plt.show()"
   ]
  }
 ],
 "metadata": {
  "kernelspec": {
   "display_name": "Python 3",
   "language": "python",
   "name": "python3"
  },
  "language_info": {
   "codemirror_mode": {
    "name": "ipython",
    "version": 3
   },
   "file_extension": ".py",
   "mimetype": "text/x-python",
   "name": "python",
   "nbconvert_exporter": "python",
   "pygments_lexer": "ipython3",
   "version": "3.10.12"
  }
 },
 "nbformat": 4,
 "nbformat_minor": 1
}
