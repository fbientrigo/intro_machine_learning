{
 "cells": [
  {
   "cell_type": "markdown",
   "metadata": {},
   "source": [
    "# Como seleccionar Hiperparametros\n",
    "Esta es la parte que requiere mayor poder de computo, estan las ideas de hiperparametros que son cantidades que decidimos al construir los modelos, en el caso de los arboles de decisión es la cantidad de nodos maximos"
   ]
  },
  {
   "cell_type": "code",
   "execution_count": null,
   "metadata": {},
   "outputs": [],
   "source": []
  }
 ],
 "metadata": {
  "language_info": {
   "name": "python"
  }
 },
 "nbformat": 4,
 "nbformat_minor": 2
}
